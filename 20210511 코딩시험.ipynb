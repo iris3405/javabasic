{
 "cells": [
  {
   "cell_type": "code",
   "execution_count": 2,
   "metadata": {},
   "outputs": [
    {
     "name": "stdout",
     "output_type": "stream",
     "text": [
      "5\n",
      "R R R U D D\n",
      "3 4\n"
     ]
    }
   ],
   "source": [
    "n = int(input()) # N 입력받기 \n",
    "x, y = 1, 1 \n",
    "plans = input().split() \n",
    "dx = [0, 0, -1, 1] \n",
    "dy = [-1, 1, 0, 0] \n",
    "move_types = ['L', 'R', 'U', 'D'] # 이동 방향\n",
    "\n",
    "for plan in plans: # 이동 계획을 하나씩 확인 \n",
    "    for i in range(len(move_types)): # 이동 후 좌표 구하기 \n",
    "        if plan == move_types[i]: \n",
    "            nx = x + dx[i] \n",
    "            ny = y + dy[i] \n",
    "    if nx < 1 or ny < 1 or nx > n or ny > n: \n",
    "        continue # 공간을 벗어나는 경우 무시 \n",
    "    x, y = nx, ny # 이동 수행 \n",
    "print(x, y)"
   ]
  },
  {
   "cell_type": "code",
   "execution_count": 2,
   "metadata": {},
   "outputs": [
    {
     "name": "stdout",
     "output_type": "stream",
     "text": [
      "a1\n",
      "2\n"
     ]
    }
   ],
   "source": [
    "# 현재 나이트의 위치 입력받기\n",
    "position=input()\n",
    "row=int(position[1])\n",
    "column=int(ord(position[0]))-int(ord('a'))+1\n",
    "\n",
    "# 나이트가 이동할 수 있는 8가지 방향\n",
    "steps=[\n",
    "  (-2, -1), (-1, -2), (1, -2),(2, -1),\n",
    "  (2, 1), (1, 2), (-1, 2), (-2, 1)\n",
    "  ]\n",
    "\n",
    "# 8가지 방향에 대하여 각 위치로 이동이 가능한지 확인\n",
    "result=0\n",
    "for step in steps:\n",
    "  # 이동하고자 하는 위치 확인\n",
    "  mR=row+step[0]\n",
    "  mC=column+step[1]\n",
    "\n",
    "  # 체스판에서 벗어나지 않는다면\n",
    "  if mR>0 and mR<9 and mC>0 and mC<9:\n",
    "    result+=1 # 횟수 하나 추가\n",
    "\n",
    "print(result)"
   ]
  },
  {
   "cell_type": "code",
   "execution_count": null,
   "metadata": {},
   "outputs": [],
   "source": []
  }
 ],
 "metadata": {
  "kernelspec": {
   "display_name": "Python 3",
   "language": "python",
   "name": "python3"
  },
  "language_info": {
   "codemirror_mode": {
    "name": "ipython",
    "version": 3
   },
   "file_extension": ".py",
   "mimetype": "text/x-python",
   "name": "python",
   "nbconvert_exporter": "python",
   "pygments_lexer": "ipython3",
   "version": "3.8.5"
  }
 },
 "nbformat": 4,
 "nbformat_minor": 4
}
